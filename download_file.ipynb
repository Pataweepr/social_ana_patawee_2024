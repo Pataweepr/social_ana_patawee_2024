{
 "cells": [
  {
   "cell_type": "code",
   "execution_count": 1,
   "metadata": {},
   "outputs": [
    {
     "name": "stderr",
     "output_type": "stream",
     "text": [
      "0it [00:00, ?it/s]\n"
     ]
    }
   ],
   "source": [
    "import requests\n",
    "# * https://colab.research.google.com/drive/1TgmxkEnL1Degibzd7J7ttFH67YTViP56?usp=sharing#scrollTo=mPLH71lguANO\n",
    "from tqdm import tqdm\n",
    "import os, sys\n",
    "import pandas as pd\n",
    "\n",
    "path_train_df = os.path.join('labels', 'train_split.csv')\n",
    "path_dev_df = os.path.join('labels', 'dev_split.csv')\n",
    "path_test_df = os.path.join('labels', 'test_split.csv')\n",
    "user_id_list = [] \n",
    "\n",
    "for path_csv in [path_train_df, path_dev_df, path_test_df]:\n",
    "    df_load = pd.read_csv(path_csv)\n",
    "    user_id_list += df_load['Participant_ID'].to_list() \n",
    "\n",
    "user_id_list = sorted([int(x) for x in user_id_list])\n",
    "\n",
    "already_downloaded = sorted([int(x.split('_P')[0]) for x in os.listdir(os.getcwd()) if x[0].isdigit() and x.endswith('_P.tar.gz')])\n",
    "\n",
    "not_downloaded_yet = sorted(list(set(user_id_list).difference(set(already_downloaded))))\n",
    "# not_downloaded_yet\n",
    "\n",
    "dir_data_url = 'https://dcapswoz.ict.usc.edu/wwwedaic/data'\n",
    "for user_id in tqdm(not_downloaded_yet):\n",
    "    filename = f'{user_id}_P.tar.gz'\n",
    "    response = requests.get('/'.join([dir_data_url, filename]))\n",
    "    with open(filename, 'wb') as file:\n",
    "        file.write(response.content)"
   ]
  },
  {
   "cell_type": "code",
   "execution_count": 2,
   "metadata": {},
   "outputs": [
    {
     "data": {
      "text/plain": [
       "[]"
      ]
     },
     "execution_count": 2,
     "metadata": {},
     "output_type": "execute_result"
    }
   ],
   "source": [
    "already_downloaded = sorted([int(x.split('_P')[0]) for x in os.listdir(os.getcwd()) if x[0].isdigit() and x.endswith('_P.tar.gz')])\n",
    "should_not_have = sorted(list(set(already_downloaded).difference(set(user_id_list)))) \n",
    "should_not_have"
   ]
  },
  {
   "cell_type": "code",
   "execution_count": null,
   "metadata": {},
   "outputs": [],
   "source": []
  },
  {
   "cell_type": "code",
   "execution_count": null,
   "metadata": {},
   "outputs": [],
   "source": []
  }
 ],
 "metadata": {
  "kernelspec": {
   "display_name": "maywe3.10",
   "language": "python",
   "name": "python3"
  },
  "language_info": {
   "codemirror_mode": {
    "name": "ipython",
    "version": 3
   },
   "file_extension": ".py",
   "mimetype": "text/x-python",
   "name": "python",
   "nbconvert_exporter": "python",
   "pygments_lexer": "ipython3",
   "version": "3.10.13"
  }
 },
 "nbformat": 4,
 "nbformat_minor": 2
}
