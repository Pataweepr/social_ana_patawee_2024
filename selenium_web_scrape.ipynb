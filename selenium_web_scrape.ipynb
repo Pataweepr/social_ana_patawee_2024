{
 "cells": [
  {
   "cell_type": "code",
   "execution_count": 2,
   "metadata": {},
   "outputs": [],
   "source": [
    "\n",
    "# from selenium import webdriver\n",
    "# from selenium.webdriver.common.keys import Keys\n",
    "# from selenium.webdriver.chrome.service import Service\n",
    "# import time\n",
    "\n",
    "# service = Service(\"C:/Users/Sukree/OneDrive/SourceCode/Python/Selenium/chromedriver.exe\")\n",
    "# # service = webdriver.Chrome('/Users/sukreesinthupinyo/App/chromedriver')\n",
    "# driver = webdriver.Chrome(service=service)\n",
    "\n",
    "# driver.get('https://www.thairath.co.th/home')\n",
    "# time.sleep(1)\n",
    "# driver.get('https://www.thairath.co.th/home')\n",
    "\n",
    "\n",
    "\n",
    "from selenium import webdriver\n",
    "from selenium.webdriver.common.keys import Keys\n",
    "from selenium.webdriver.chrome.service import Service\n",
    "import time\n",
    "path_dirver = '/Users/pataweeprakrankamanant/Desktop/social_ana_patawee_2024/chromedriver-mac-arm64/chromedriver'\n",
    "service = Service(path_dirver)\n",
    "driver = webdriver.Chrome(service=service)\n",
    "\n",
    "\n",
    "driver.get('https://www.thairath.co.th/home')\n",
    "time.sleep(1)\n",
    "driver.get('https://www.thairath.co.th/home')"
   ]
  },
  {
   "cell_type": "code",
   "execution_count": 3,
   "metadata": {},
   "outputs": [
    {
     "name": "stdout",
     "output_type": "stream",
     "text": [
      "ชื่นชมคนขายเนื้อ เล่านาทีชีวิต ช่วยเหลือหญิงวัย 46 ปี เป็นลมชักน้ำลายฟูมปาก\n",
      "Link https://www.thairath.co.th/news/society/2811116\n",
      "Title ชื่นชมคนขายเนื้อ เล่านาทีชีวิต ช่วยเหลือหญิงวัย 46 ปี เป็นลมชักน้ำลายฟูมปาก\n",
      "เปิดประวัติ พาเวล ดูรอฟ ซีอีโอเทเลแกรม ชายผู้เป็นพ่อของเด็กกว่า 100 คน (คลิป)\n",
      "Link https://www.thairath.co.th/news/foreign/2811115\n",
      "Title เปิดประวัติ พาเวล ดูรอฟ ซีอีโอเทเลแกรม ชายผู้เป็นพ่อของเด็กกว่า 100 คน (คลิป)\n",
      "เขื่อนเจ้าพระยา ปรับเพิ่มการระบายน้ำ ชาวกรุงเตรียมรอรับมวลน้ำเหนือก้อนแรก\n",
      "Link https://www.thairath.co.th/news/local/central/2811114\n",
      "Title เขื่อนเจ้าพระยา ปรับเพิ่มการระบายน้ำ ชาวกรุงเตรียมรอรับมวลน้ำเหนือก้อนแรก\n",
      "เพจ \"กรุงเทพมหานคร\" เตือนอย่าแชร์ข่าวเก่า \"คาดการณ์ล่วงหน้าน้ำท่วม 67\"\n",
      "Link https://www.thairath.co.th/news/society/2811108\n",
      "Title เพจ \"กรุงเทพมหานคร\" เตือนอย่าแชร์ข่าวเก่า \"คาดการณ์ล่วงหน้าน้ำท่วม 67\"\n",
      "เนื้อหอมจริง \"ลาซิโอ\" โดดร่วมวงล่า \"ลินเดเลิฟ\" กับอีก 2 ทีมดัง หลังนักเตะจ่อหมดอนาคต \"แมนยูฯ\"\n",
      "Link https://www.thairath.co.th/sport/eurofootball/premierleague/2811109\n",
      "Title เนื้อหอมจริง \"ลาซิโอ\" โดดร่วมวงล่า \"ลินเดเลิฟ\" กับอีก 2 ทีมดัง หลังนักเตะจ่อหมดอนาคต \"แมนยูฯ\"\n",
      "วัคซีนโปลิโอไปไหน ทำไมยังไม่ถึงมือเด็กในกาซา\n",
      "Link https://www.thairath.co.th/news/foreign/2810963\n",
      "Title วัคซีนโปลิโอไปไหน ทำไมยังไม่ถึงมือเด็กในกาซา\n",
      "สภาพอากาศวันนี้ กรมอุตุฯ เตือน \"ภาคเหนือ\" รับมือฝนถล่มหนัก กทม.ตก 80%\n",
      "Link https://www.thairath.co.th/news/local/bangkok/2811111\n",
      "Title สภาพอากาศวันนี้ กรมอุตุฯ เตือน \"ภาคเหนือ\" รับมือฝนถล่มหนัก กทม.ตก 80%\n",
      "\"ลำไย\" ตลาดจีนมีโอกาสสดใส เร่งปรับสู่แปลงใหญ่ ดัน 1 ท้องถิ่น 1 เกษตรมูลค่าสูง\n",
      "Link https://www.thairath.co.th/agriculture/agricultural-policy/2811091\n",
      "Title \"ลำไย\" ตลาดจีนมีโอกาสสดใส เร่งปรับสู่แปลงใหญ่ ดัน 1 ท้องถิ่น 1 เกษตรมูลค่าสูง\n",
      "ดราม่าอีกแล้ว \"พรีเมียร์ลีก\" เผยชื่อผู้ตัดสินลงเป่าศึก \"แมนยูฯ-ลิเวอร์พูล\" แดงเดือดสัปดาห์นี้\n",
      "Link https://www.thairath.co.th/sport/eurofootball/premierleague/2811099\n",
      "Title ดราม่าอีกแล้ว \"พรีเมียร์ลีก\" เผยชื่อผู้ตัดสินลงเป่าศึก \"แมนยูฯ-ลิเวอร์พูล\" แดงเดือดสัปดาห์นี้\n",
      "เตือน 52 จังหวัดรวม กทม. เตรียมรับมือ \"ฝนตกหนักมาก\" บางพื้นที่เสี่ยงน้ำท่วม\n",
      "Link https://www.thairath.co.th/news/society/2811102\n",
      "Title เตือน 52 จังหวัดรวม กทม. เตรียมรับมือ \"ฝนตกหนักมาก\" บางพื้นที่เสี่ยงน้ำท่วม\n",
      "วันหยุดยาว อีก 4 เดือนสุดท้ายของปี 2567 เช็กชัดๆ มีวันไหนบ้าง\n",
      "Link https://www.thairath.co.th/news/society/2811068\n",
      "Title วันหยุดยาว อีก 4 เดือนสุดท้ายของปี 2567 เช็กชัดๆ มีวันไหนบ้าง\n",
      "ยังจำได้ไหม ย้อน 3 เกมแห่งความทรงจำ \"สเวน โกรัน อีริคสัน\" ในฐานะผู้จัดการทีม\n",
      "Link https://www.thairath.co.th/sport/eurofootball/otherleague/2810908\n",
      "Title ยังจำได้ไหม ย้อน 3 เกมแห่งความทรงจำ \"สเวน โกรัน อีริคสัน\" ในฐานะผู้จัดการทีม\n"
     ]
    }
   ],
   "source": [
    "from selenium.webdriver.common.by import By\n",
    "\n",
    "links = []\n",
    "for i in range(12):\n",
    "    b = driver.find_element(By.CLASS_NAME,f'__item_sectionnew_{i}.css-t8rc5b.e11fmmx10')\n",
    "    text_element = b.find_element(By.CLASS_NAME,'css-1e508qf.eeh1rk70')\n",
    "    print(text_element.text)\n",
    "    a_element = text_element.find_element(By.TAG_NAME,'a')\n",
    "    print('Link',a_element.get_attribute('href'))\n",
    "    print('Title',a_element.get_attribute('title'))\n",
    "    links.append(a_element.get_attribute('href'))\n",
    "\n",
    "\n"
   ]
  },
  {
   "cell_type": "code",
   "execution_count": 4,
   "metadata": {},
   "outputs": [],
   "source": [
    "link = links[0]\n",
    "\n",
    "driver.get(link)"
   ]
  },
  {
   "cell_type": "code",
   "execution_count": null,
   "metadata": {},
   "outputs": [],
   "source": []
  }
 ],
 "metadata": {
  "kernelspec": {
   "display_name": "maywe3.10",
   "language": "python",
   "name": "python3"
  },
  "language_info": {
   "codemirror_mode": {
    "name": "ipython",
    "version": 3
   },
   "file_extension": ".py",
   "mimetype": "text/x-python",
   "name": "python",
   "nbconvert_exporter": "python",
   "pygments_lexer": "ipython3",
   "version": "3.10.13"
  }
 },
 "nbformat": 4,
 "nbformat_minor": 2
}
