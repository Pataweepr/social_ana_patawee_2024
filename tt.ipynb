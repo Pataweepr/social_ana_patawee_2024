{
 "cells": [
  {
   "cell_type": "code",
   "execution_count": 7,
   "metadata": {},
   "outputs": [
    {
     "name": "stdout",
     "output_type": "stream",
     "text": [
      "Error:  422_P.zip\n"
     ]
    }
   ],
   "source": [
    "import os, sys\n",
    "import zipfile\n",
    "import shutil\n",
    "\n",
    "path_dir_out = '/Users/pataweeprakrankamanant/Desktop/diac_woz_out'\n",
    "path_dir = '/Volumes/Ta_ssd_1Tb/daic_woz_new/daic_woz_download'\n",
    "list_zip = sorted([x for x in os.listdir(path_dir) if not x.startswith('.') and x.endswith('.zip')])\n",
    "\n",
    "if not os.path.exists(path_dir_out): os.makedirs(path_dir_out)\n",
    "\n",
    "for filezip_sel in list_zip:\n",
    "    try:\n",
    "        path_zip = os.path.join(path_dir, filezip_sel)\n",
    "        path_extract = os.path.join(path_dir_out, filezip_sel[:-4])\n",
    "        if not os.path.exists(path_extract): os.makedirs(path_extract)\n",
    "\n",
    "        with zipfile.ZipFile(path_zip, 'r') as zip_ref:\n",
    "            zip_ref.extractall(path_extract)\n",
    "\n",
    "        csv_file = [x for x in os.listdir(path_extract) if not x.startswith('.') and x.endswith('_TRANSCRIPT.csv')][0]\n",
    "        # print(csv_file)\n",
    "\n",
    "        # sys.exit()\n",
    "        path_csv = os.path.join(path_extract, csv_file)\n",
    "        path_csv_out = os.path.join(path_dir_out, csv_file) \n",
    "        shutil.copyfile(path_csv, path_csv_out)\n",
    "        shutil.rmtree(path_extract)\n",
    "    except:\n",
    "        print('Error: ', filezip_sel)\n",
    "        continue"
   ]
  },
  {
   "cell_type": "code",
   "execution_count": null,
   "metadata": {},
   "outputs": [],
   "source": []
  }
 ],
 "metadata": {
  "kernelspec": {
   "display_name": "maywe3.10",
   "language": "python",
   "name": "python3"
  },
  "language_info": {
   "codemirror_mode": {
    "name": "ipython",
    "version": 3
   },
   "file_extension": ".py",
   "mimetype": "text/x-python",
   "name": "python",
   "nbconvert_exporter": "python",
   "pygments_lexer": "ipython3",
   "version": "3.10.13"
  }
 },
 "nbformat": 4,
 "nbformat_minor": 2
}
